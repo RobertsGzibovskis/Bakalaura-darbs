{
 "cells": [
  {
   "cell_type": "code",
   "execution_count": 1,
   "id": "6216df04",
   "metadata": {},
   "outputs": [
    {
     "data": {
      "text/plain": [
       "'\\nMovie recommendation system based on genres.\\n'"
      ]
     },
     "execution_count": 1,
     "metadata": {},
     "output_type": "execute_result"
    }
   ],
   "source": [
    "\"\"\"\n",
    "Movie recommendation system based on genres.\n",
    "\"\"\""
   ]
  },
  {
   "cell_type": "code",
   "execution_count": 2,
   "id": "088ccf03",
   "metadata": {},
   "outputs": [],
   "source": [
    "import pandas as pd\n",
    "import numpy as np\n",
    "from sklearn.feature_extraction.text import TfidfVectorizer\n",
    "from sklearn.metrics.pairwise import cosine_similarity"
   ]
  },
  {
   "cell_type": "code",
   "execution_count": 13,
   "id": "000418cf",
   "metadata": {},
   "outputs": [],
   "source": [
    "# Load movie dataset (Nomainīts, jo dati autoram glabājās lokāli)\n",
    "movies = pd.read_csv(\"C:\\Bakalaurs_praktiskais\\Bakalaura-darbs\\movies.csv\")\n",
    "ratings = pd.read_csv(r\"C:\\Bakalaurs_praktiskais\\Bakalaura-darbs\\ratings.csv\")"
   ]
  },
  {
   "cell_type": "code",
   "execution_count": 4,
   "id": "d9c7173e",
   "metadata": {},
   "outputs": [],
   "source": [
    "# Data preprocessing\n",
    "movies['genres'] = movies['genres'].apply(lambda x: x.lower().replace('|', ' '))"
   ]
  },
  {
   "cell_type": "code",
   "execution_count": 5,
   "id": "90d1da68",
   "metadata": {},
   "outputs": [],
   "source": [
    "# Create TF-IDF vectorizer and fit the movie dataset\n",
    "vectorizer = TfidfVectorizer()\n",
    "tfidf_matrix = vectorizer.fit_transform(movies['genres'])"
   ]
  },
  {
   "cell_type": "code",
   "execution_count": 6,
   "id": "103d2192",
   "metadata": {
    "lines_to_next_cell": 1
   },
   "outputs": [],
   "source": [
    "#Calculate similarity matrix\n",
    "cosine_sim_matrix = cosine_similarity(tfidf_matrix, tfidf_matrix)"
   ]
  },
  {
   "cell_type": "code",
   "execution_count": 7,
   "id": "e277aeb0",
   "metadata": {
    "lines_to_next_cell": 1
   },
   "outputs": [],
   "source": [
    "def find_movie_index(movie_title, year):\n",
    "    if year != None:\n",
    "        movie_title = f\"{movie_title} ({year})\"\n",
    "        if movie_title not in movies['title'].values:\n",
    "            return None\n",
    "        return movies[movies['title'] == movie_title].index[0]\n",
    "    else:\n",
    "        if not any(movies['title'].str.contains(movie_title)):\n",
    "            return None\n",
    "        return movies[movies['title'].str.contains(movie_title)].index[0]"
   ]
  },
  {
   "cell_type": "code",
   "execution_count": 8,
   "id": "211dd1e4",
   "metadata": {
    "lines_to_next_cell": 1
   },
   "outputs": [],
   "source": [
    "def recommend_movies(movie_title, year=None, n_recommendations=5):\n",
    "    movie_index = find_movie_index(movie_title, year)\n",
    "    if movie_index is None:\n",
    "        movie_not_found_message = f\"Movie  '{movie_title}' not found in dataset.\"\n",
    "        print(movie_not_found_message)\n",
    "        return None\n",
    "\n",
    "    sim_scores = list(enumerate(cosine_sim_matrix[movie_index]))\n",
    "    sim_scores = sorted(sim_scores, key=lambda x: x[1], reverse=True)\n",
    "    sim_scores = sim_scores[1:n_recommendations + 1]\n",
    "\n",
    "    recommended_movie_indices = [i[0] for i in sim_scores]\n",
    "    return movies.iloc[recommended_movie_indices]"
   ]
  },
  {
   "cell_type": "code",
   "execution_count": 26,
   "id": "e6c9d06d",
   "metadata": {},
   "outputs": [],
   "source": [
    "from sklearn.metrics import precision_score, recall_score, f1_score\n",
    "import random\n",
    "\n",
    "def evaluate_genre_recommender(movies, ratings, recommend_function, n_recommendations=5, top_n_users=20):\n",
    "  \n",
    "\n",
    "    # Apvieno filmu vērtējumus ar filmām\n",
    "    data = pd.merge(ratings, movies, on='movieId')\n",
    "\n",
    "    # Izvēlās tikai aktīvākos lietotājus\n",
    "    top_users = data['userId'].value_counts().head(top_n_users).index.tolist()\n",
    "\n",
    "    # Izveido tukšu sarakstu priekš metrikām\n",
    "    all_precisions, all_recalls, all_f1s = [], [], []\n",
    "\n",
    "    for user_id in top_users:\n",
    "        user_ratings = data[data['userId'] == user_id]\n",
    "\n",
    "        # Norāda vērtējumu robežu, kuru uzskatīt par positīvi novērtētu filmu\n",
    "        liked_movies = user_ratings[user_ratings['rating'] >= 3.5]\n",
    "\n",
    "        # Izlaiž lietotājus, kuri ir vērtējuši mazāk par 3 filmām\n",
    "        if len(liked_movies) < 2:\n",
    "            continue \n",
    "\n",
    "        # Uz nejaušību izvēlās vienu filmu, kura ir vērtēta pozitīvi no ietiekumiem\n",
    "        seed_row = liked_movies.sample(1).iloc[0]\n",
    "        seed_title = seed_row['title']\n",
    "\n",
    "        # Apstrādā datus tā, lai nosaukumā netiek iekļauts gads \"Title (Year)\"\n",
    "        try:\n",
    "            if seed_title.strip()[-1] == ')':\n",
    "                year = int(seed_title.strip()[-5:-1])\n",
    "                title = seed_title[:-7]  # Noņem gadu no nosaukuma \" (YYYY)\"\n",
    "            else:\n",
    "                year = None\n",
    "                title = seed_title # Ja noņemšana nestrādā, tiek izmantots pilnais gads\n",
    "        except:\n",
    "            year = None\n",
    "            title = seed_title\n",
    "\n",
    "        # Ģenerē ieteikumus, balstoties uz \"seed\" filmu\n",
    "        recs = recommend_function(title, year, n_recommendations=n_recommendations)\n",
    "        if recs is None:\n",
    "            continue\n",
    "\n",
    "        # Ieteikumu saraksts, ko atgriež ieteikumu sistēma\n",
    "        recommended_titles = set(recs['title'].tolist())\n",
    "        actual_liked_titles = set(liked_movies['title'].tolist()) - {seed_title}\n",
    "\n",
    "        # Salīdzina filmas, kuras lietotājs ir novērtējis ar labu vērtējumu pret prognozētajām filmām\n",
    "        y_true = [1 if title in actual_liked_titles else 0 for title in recommended_titles]\n",
    "        y_pred = [1] * len(y_true)\n",
    "\n",
    "        if not y_true:\n",
    "            continue\n",
    "\n",
    "        # Aprēķina precizitāti Precision = (sum(y_true)/len(y_pred))\n",
    "        precision = precision_score(y_true, y_pred, zero_division=0)\n",
    "\n",
    "        # Aprēķina atsaukumu Recall = (sum(y_true)/len(kopējais filmu skaits, kurš lietotājam ir novērtēts ar pozitīvu vērtējumu))\n",
    "        recall = recall_score(y_true, y_pred, zero_division=0)\n",
    "        \n",
    "        # Aprēķina F1 = 2*((Precision*Recall)/(Precision+Recall))\n",
    "        f1 = f1_score(y_true, y_pred, zero_division=0)\n",
    "\n",
    "        all_precisions.append(precision)\n",
    "        all_recalls.append(recall)\n",
    "        all_f1s.append(f1)\n",
    "\n",
    "    print(\"\\n--- Novērtējums ---\")\n",
    "    print(f\"Novērtēto lietotāju skaits: {len(all_precisions)}\")\n",
    "    print(f\"Vidējā Precizitāte@{n_recommendations}: {np.mean(all_precisions):.4f}\")\n",
    "    print(f\"Videājais Atsaukums@{n_recommendations}: {np.mean(all_recalls):.4f}\")\n",
    "    print(f\"Vidējais F1@{n_recommendations}: {np.mean(all_f1s):.4f}\")"
   ]
  },
  {
   "cell_type": "code",
   "execution_count": null,
   "id": "83d0d9f7",
   "metadata": {},
   "outputs": [
    {
     "name": "stdout",
     "output_type": "stream",
     "text": [
      "Similar recommendations for movie 'Toy Story':\n",
      "      movieId                                              title  \\\n",
      "1706     2294                                        Antz (1998)   \n",
      "2355     3114                                 Toy Story 2 (1999)   \n",
      "2809     3754     Adventures of Rocky and Bullwinkle, The (2000)   \n",
      "3000     4016                   Emperor's New Groove, The (2000)   \n",
      "3568     4886                              Monsters, Inc. (2001)   \n",
      "6194    45074                                   Wild, The (2006)   \n",
      "6486    53121                             Shrek the Third (2007)   \n",
      "6948    65577                     Tale of Despereaux, The (2008)   \n",
      "7760    91355  Asterix and the Vikings (Astérix et les Viking...   \n",
      "8219   103755                                       Turbo (2013)   \n",
      "\n",
      "                                           genres  \n",
      "1706  Adventure|Animation|Children|Comedy|Fantasy  \n",
      "2355  Adventure|Animation|Children|Comedy|Fantasy  \n",
      "2809  Adventure|Animation|Children|Comedy|Fantasy  \n",
      "3000  Adventure|Animation|Children|Comedy|Fantasy  \n",
      "3568  Adventure|Animation|Children|Comedy|Fantasy  \n",
      "6194  Adventure|Animation|Children|Comedy|Fantasy  \n",
      "6486  Adventure|Animation|Children|Comedy|Fantasy  \n",
      "6948  Adventure|Animation|Children|Comedy|Fantasy  \n",
      "7760  Adventure|Animation|Children|Comedy|Fantasy  \n",
      "8219  Adventure|Animation|Children|Comedy|Fantasy  \n",
      "\n",
      "--- Novērtējums ---\n",
      "Novērtēto lietotāju skaits: 10\n",
      "Vidējā Precizitāte@10: 0.1700\n",
      "Videājais Atsaukums@10: 0.7000\n",
      "Vidējais F1@10: 0.2434\n"
     ]
    }
   ],
   "source": [
    "if __name__ == \"__main__\":\n",
    "    year = 1995\n",
    "    movie_title = \"Toy Story\"\n",
    "    n_recommendations = 10\n",
    "    print(f\"Similar recommendations for movie '{movie_title}':\")\n",
    "\n",
    "    recommendations = recommend_movies(movie_title, year, n_recommendations)\n",
    "    if recommendations is not None:\n",
    "        print(recommendations)\n",
    "        \n",
    "    # Novērtējuma funkcijas izsaukums\n",
    "    evaluate_genre_recommender(movies, ratings, recommend_movies, n_recommendations=10, top_n_users=10)"
   ]
  }
 ],
 "metadata": {
  "jupytext": {
   "cell_metadata_filter": "-all",
   "main_language": "python",
   "notebook_metadata_filter": "-all"
  },
  "kernelspec": {
   "display_name": "Python 3",
   "language": "python",
   "name": "python3"
  },
  "language_info": {
   "codemirror_mode": {
    "name": "ipython",
    "version": 3
   },
   "file_extension": ".py",
   "mimetype": "text/x-python",
   "name": "python",
   "nbconvert_exporter": "python",
   "pygments_lexer": "ipython3",
   "version": "3.9.7"
  }
 },
 "nbformat": 4,
 "nbformat_minor": 5
}
