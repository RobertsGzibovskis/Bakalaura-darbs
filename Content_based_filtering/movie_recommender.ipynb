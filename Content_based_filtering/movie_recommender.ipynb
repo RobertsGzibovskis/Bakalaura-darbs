{
 "cells": [
  {
   "cell_type": "code",
   "execution_count": null,
   "id": "6216df04",
   "metadata": {},
   "outputs": [],
   "source": [
    "\"\"\"\n",
    "Movie recommendation system based on genres.\n",
    "\"\"\""
   ]
  },
  {
   "cell_type": "code",
   "execution_count": null,
   "id": "088ccf03",
   "metadata": {},
   "outputs": [],
   "source": [
    "import pandas as pd\n",
    "import numpy as np\n",
    "from sklearn.feature_extraction.text import TfidfVectorizer\n",
    "from sklearn.metrics.pairwise import cosine_similarity"
   ]
  },
  {
   "cell_type": "code",
   "execution_count": null,
   "id": "000418cf",
   "metadata": {},
   "outputs": [],
   "source": [
    "# Load movie dataset (Nomainīts, jo dati autoram glabājās lokāli)\n",
    "movies = pd.read_csv(\"movies.csv\")"
   ]
  },
  {
   "cell_type": "code",
   "execution_count": null,
   "id": "d9c7173e",
   "metadata": {},
   "outputs": [],
   "source": [
    "# Data preprocessing\n",
    "movies['genres'] = movies['genres'].apply(lambda x: x.lower().replace('|', ' '))"
   ]
  },
  {
   "cell_type": "code",
   "execution_count": null,
   "id": "90d1da68",
   "metadata": {},
   "outputs": [],
   "source": [
    "# Create TF-IDF vectorizer and fit the movie dataset\n",
    "vectorizer = TfidfVectorizer()\n",
    "tfidf_matrix = vectorizer.fit_transform(movies['genres'])"
   ]
  },
  {
   "cell_type": "code",
   "execution_count": null,
   "id": "103d2192",
   "metadata": {
    "lines_to_next_cell": 1
   },
   "outputs": [],
   "source": [
    "#Calculate similarity matrix\n",
    "cosine_sim_matrix = cosine_similarity(tfidf_matrix, tfidf_matrix)"
   ]
  },
  {
   "cell_type": "code",
   "execution_count": null,
   "id": "e277aeb0",
   "metadata": {
    "lines_to_next_cell": 1
   },
   "outputs": [],
   "source": [
    "def find_movie_index(movie_title, year):\n",
    "    if year != None:\n",
    "        movie_title = f\"{movie_title} ({year})\"\n",
    "        if movie_title not in movies['title'].values:\n",
    "            return None\n",
    "        return movies[movies['title'] == movie_title].index[0]\n",
    "    else:\n",
    "        if not any(movies['title'].str.contains(movie_title)):\n",
    "            return None\n",
    "        return movies[movies['title'].str.contains(movie_title)].index[0]"
   ]
  },
  {
   "cell_type": "code",
   "execution_count": null,
   "id": "211dd1e4",
   "metadata": {
    "lines_to_next_cell": 1
   },
   "outputs": [],
   "source": [
    "def recommend_movies(movie_title, year=None, n_recommendations=5):\n",
    "    movie_index = find_movie_index(movie_title, year)\n",
    "    if movie_index is None:\n",
    "        movie_not_found_message = f\"Movie  '{movie_title}' not found in dataset.\"\n",
    "        print(movie_not_found_message)\n",
    "        return None\n",
    "\n",
    "    sim_scores = list(enumerate(cosine_sim_matrix[movie_index]))\n",
    "    sim_scores = sorted(sim_scores, key=lambda x: x[1], reverse=True)\n",
    "    sim_scores = sim_scores[1:n_recommendations + 1]\n",
    "\n",
    "    recommended_movie_indices = [i[0] for i in sim_scores]\n",
    "    return movies.iloc[recommended_movie_indices]"
   ]
  },
  {
   "cell_type": "code",
   "execution_count": null,
   "id": "83d0d9f7",
   "metadata": {},
   "outputs": [],
   "source": [
    "if __name__ == \"__main__\":\n",
    "    year = 1995\n",
    "    movie_title = \"Toy Story\"\n",
    "    n_recommendations = 10\n",
    "    print(f\"Similar recommendations for movie '{movie_title}':\")\n",
    "\n",
    "    recommendations = recommend_movies(movie_title, year, n_recommendations)\n",
    "    if recommendations is not None:\n",
    "        print(recommendations)"
   ]
  }
 ],
 "metadata": {
  "jupytext": {
   "cell_metadata_filter": "-all",
   "main_language": "python",
   "notebook_metadata_filter": "-all"
  }
 },
 "nbformat": 4,
 "nbformat_minor": 5
}
